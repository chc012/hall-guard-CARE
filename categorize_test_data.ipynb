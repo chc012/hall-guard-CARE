{
 "cells": [
  {
   "cell_type": "code",
   "execution_count": 1,
   "metadata": {},
   "outputs": [],
   "source": [
    "import pandas as pd"
   ]
  },
  {
   "cell_type": "code",
   "execution_count": 5,
   "metadata": {},
   "outputs": [],
   "source": [
    "BAD_WORDS = [\"7 cups\",\n",
    "             \"covid\", \"covid19\", \"covid 19\", \"covid-19\",\n",
    "             \"Covid\", \"Covid19\", \"Covid 19\", \"Covid-19\",\n",
    "             \"COVID\", \"COVID19\",\"COVID 19\", \"COVID-19\",\n",
    "             \"corona\", \"Corona\", \"coronavirus\", \"Coronavirus\",\n",
    "             \"corona virus\", \"Corona Virus\", \"Corona virus\"]"
   ]
  },
  {
   "cell_type": "code",
   "execution_count": 4,
   "metadata": {},
   "outputs": [
    {
     "data": {
      "text/plain": [
       "label\n",
       "0    6863\n",
       "1    3590\n",
       "Name: count, dtype: int64"
      ]
     },
     "execution_count": 4,
     "metadata": {},
     "output_type": "execute_result"
    }
   ],
   "source": [
    "df = pd.read_csv(\"data/test.csv\")\n",
    "df.value_counts(\"label\")"
   ]
  },
  {
   "cell_type": "code",
   "execution_count": 8,
   "metadata": {},
   "outputs": [],
   "source": [
    "def categorize_row(row):\n",
    "    if row[\"label\"] == 1:\n",
    "        return \"good\"\n",
    "    for bad_word in BAD_WORDS:\n",
    "        if row[\"text\"].endswith(bad_word):\n",
    "            return \"bad word\"\n",
    "    return \"bad response\""
   ]
  },
  {
   "cell_type": "code",
   "execution_count": 9,
   "metadata": {},
   "outputs": [
    {
     "data": {
      "text/plain": [
       "category\n",
       "good            3590\n",
       "bad response    3588\n",
       "bad word        3275\n",
       "Name: count, dtype: int64"
      ]
     },
     "execution_count": 9,
     "metadata": {},
     "output_type": "execute_result"
    }
   ],
   "source": [
    "df[\"category\"] = df.apply(categorize_row, axis=1)\n",
    "df.value_counts(\"category\")"
   ]
  },
  {
   "cell_type": "code",
   "execution_count": 12,
   "metadata": {},
   "outputs": [],
   "source": [
    "df.loc[df[\"category\"] == \"good\", [\"text\", \"label\"]].to_csv(\"data/test_good.csv\", index=False)\n",
    "df.loc[df[\"category\"] == \"bad word\", [\"text\", \"label\"]].to_csv(\"data/test_bad_word.csv\", index=False)\n",
    "df.loc[df[\"category\"] == \"bad response\", [\"text\", \"label\"]].to_csv(\"data/test_bad_response.csv\", index=False)"
   ]
  }
 ],
 "metadata": {
  "kernelspec": {
   "display_name": ".env",
   "language": "python",
   "name": "python3"
  },
  "language_info": {
   "codemirror_mode": {
    "name": "ipython",
    "version": 3
   },
   "file_extension": ".py",
   "mimetype": "text/x-python",
   "name": "python",
   "nbconvert_exporter": "python",
   "pygments_lexer": "ipython3",
   "version": "3.11.2"
  }
 },
 "nbformat": 4,
 "nbformat_minor": 2
}
